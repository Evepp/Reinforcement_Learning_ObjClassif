{
  "nbformat": 4,
  "nbformat_minor": 0,
  "metadata": {
    "colab": {
      "provenance": []
    },
    "kernelspec": {
      "name": "python3",
      "display_name": "Python 3"
    },
    "language_info": {
      "name": "python"
    }
  },
  "cells": [
    {
      "cell_type": "markdown",
      "source": [
        "### Only Processing Data "
      ],
      "metadata": {
        "id": "q_4jmiOpA2zY"
      }
    },
    {
      "cell_type": "code",
      "execution_count": 1,
      "metadata": {
        "id": "y4QZxWF8A0w6",
        "colab": {
          "base_uri": "https://localhost:8080/"
        },
        "outputId": "004e700d-7ecb-437b-ab46-e03823c6c09a"
      },
      "outputs": [
        {
          "output_type": "stream",
          "name": "stderr",
          "text": [
            "<ipython-input-1-0460407628fd>:19: DeprecationWarning: Please use `gaussian_filter` from the `scipy.ndimage` namespace, the `scipy.ndimage.filters` namespace is deprecated.\n",
            "  from scipy.ndimage.filters import gaussian_filter\n"
          ]
        }
      ],
      "source": [
        "import pandas as pd\n",
        "import numpy as np \n",
        "import glob\n",
        "import os\n",
        "import json\n",
        "from PIL import Image \n",
        "import tensorflow as tf \n",
        "import tensorflow_datasets as tfds \n",
        "import pathlib\n",
        "import os\n",
        "import requests\n",
        "import keras\n",
        "from sklearn.model_selection import train_test_split\n",
        "import matplotlib.pyplot as plt\n",
        "from tensorflow.keras import regularizers\n",
        "import random\n",
        "from sklearn.metrics import accuracy_score\n",
        "import time\n",
        "from scipy.ndimage.filters import gaussian_filter\n",
        "from skimage import restoration\n",
        "import numpy as np\n",
        "import tensorflow as tf\n",
        "from tensorflow.keras.models import Sequential\n",
        "from tensorflow.keras.layers import Dense, Input, Flatten\n",
        "from tensorflow.keras.optimizers import Adam\n",
        "from collections import deque\n",
        "import random\n",
        "import cv2\n",
        "\n"
      ]
    },
    {
      "cell_type": "code",
      "source": [
        "os.chdir(\"/content/drive/MyDrive/Thesis Folder/Dataset/Subset105/icub_left\")"
      ],
      "metadata": {
        "id": "h5sxGpp-A9Wj"
      },
      "execution_count": 2,
      "outputs": []
    },
    {
      "cell_type": "markdown",
      "source": [
        "here using only 40 objects"
      ],
      "metadata": {
        "id": "xaLbC_aXBB0g"
      }
    },
    {
      "cell_type": "code",
      "source": [
        "labels=pd.read_csv(\"/content/drive/MyDrive/Thesis Folder/Dataset/Subset105/labels.txt\", sep=' ', names=[\"Number\", \"Object\"])\n",
        "labels=labels.iloc[:40,:]\n",
        "print(labels)"
      ],
      "metadata": {
        "id": "_CsbStsAA_7Y",
        "colab": {
          "base_uri": "https://localhost:8080/"
        },
        "outputId": "2d25ed24-3302-447a-e7d7-e28fec5e7385"
      },
      "execution_count": 3,
      "outputs": [
        {
          "output_type": "stream",
          "name": "stdout",
          "text": [
            "    Number               Object\n",
            "0        0               carrot\n",
            "1        1             boxHitec\n",
            "2        2       shampooBionsen\n",
            "3        3          pinkSpatula\n",
            "4        4               sponge\n",
            "5        5     strawberryYogurt\n",
            "6        6              tunaCan\n",
            "7        7         colaCanConad\n",
            "8        8           woodenCube\n",
            "9        9             bumerang\n",
            "10      10              cornCob\n",
            "11      11             blueStar\n",
            "12      12          boxSupradyn\n",
            "13      13               funnel\n",
            "14      14             whaleToy\n",
            "15      15           mouseTrust\n",
            "16      16               boxEgg\n",
            "17      17          glassGarlic\n",
            "18      18        boxToothPicks\n",
            "19      19        containerNuts\n",
            "20      20     boxVividentBlast\n",
            "21      21   bottleNailPolisher\n",
            "22      22              pearToy\n",
            "23      23         mcdonaldsToy\n",
            "24      24            tomatoCan\n",
            "25      25      containerYogurt\n",
            "26      26      containerButter\n",
            "27      27           boxNesquik\n",
            "28      28              boxMilk\n",
            "29      29     toothPasteMarvis\n",
            "30      30           eggplanToy\n",
            "31      31                 hand\n",
            "32      32              vineToy\n",
            "33      33        pomodoroTimer\n",
            "34      34           octopusToy\n",
            "35      35           ketchupToy\n",
            "36      36  mcdonaldsDrummerToy\n",
            "37      37        stamplerGreen\n",
            "38      38          dietColaCan\n",
            "39      39   greenBallwithHoles\n"
          ]
        }
      ]
    },
    {
      "cell_type": "code",
      "source": [
        "label = labels[\"Object\"].values.tolist()\n",
        "print(label)"
      ],
      "metadata": {
        "id": "CPuFVmNVBEJc",
        "colab": {
          "base_uri": "https://localhost:8080/"
        },
        "outputId": "79de90c0-ec51-4436-c23d-b815aafa343f"
      },
      "execution_count": 4,
      "outputs": [
        {
          "output_type": "stream",
          "name": "stdout",
          "text": [
            "['carrot', 'boxHitec', 'shampooBionsen', 'pinkSpatula', 'sponge', 'strawberryYogurt', 'tunaCan', 'colaCanConad', 'woodenCube', 'bumerang', 'cornCob', 'blueStar', 'boxSupradyn', 'funnel', 'whaleToy', 'mouseTrust', 'boxEgg', 'glassGarlic', 'boxToothPicks', 'containerNuts', 'boxVividentBlast', 'bottleNailPolisher', 'pearToy', 'mcdonaldsToy', 'tomatoCan', 'containerYogurt', 'containerButter', 'boxNesquik', 'boxMilk', 'toothPasteMarvis', 'eggplanToy', 'hand', 'vineToy', 'pomodoroTimer', 'octopusToy', 'ketchupToy', 'mcdonaldsDrummerToy', 'stamplerGreen', 'dietColaCan', 'greenBallwithHoles']\n"
          ]
        }
      ]
    },
    {
      "cell_type": "code",
      "source": [
        "dataset = []\n",
        "labels = []\n",
        "for j in range(len(label)):\n",
        "  print(j)\n",
        "  imageNames = glob.glob(\"{}_{}/*\".format(j,label[j]))\n",
        "  for i, imName in enumerate(imageNames):\n",
        "    f_img=Image.open(imName)\n",
        "    img = f_img.resize((64, 64))\n",
        "    dataset.append(np.array(img))\n",
        "    labels.append(label[j])\n",
        "\n"
      ],
      "metadata": {
        "id": "iwTGWD4JBICY",
        "colab": {
          "base_uri": "https://localhost:8080/"
        },
        "outputId": "4d2ea511-4e7b-4b03-d73f-0cd30eb52290"
      },
      "execution_count": 5,
      "outputs": [
        {
          "output_type": "stream",
          "name": "stdout",
          "text": [
            "0\n",
            "1\n",
            "2\n",
            "3\n",
            "4\n",
            "5\n",
            "6\n",
            "7\n",
            "8\n",
            "9\n",
            "10\n",
            "11\n",
            "12\n",
            "13\n",
            "14\n",
            "15\n",
            "16\n",
            "17\n",
            "18\n",
            "19\n",
            "20\n",
            "21\n",
            "22\n",
            "23\n",
            "24\n",
            "25\n",
            "26\n",
            "27\n",
            "28\n",
            "29\n",
            "30\n",
            "31\n",
            "32\n",
            "33\n",
            "34\n",
            "35\n",
            "36\n",
            "37\n",
            "38\n",
            "39\n"
          ]
        }
      ]
    },
    {
      "cell_type": "code",
      "source": [
        "\n",
        "len(labels)"
      ],
      "metadata": {
        "colab": {
          "base_uri": "https://localhost:8080/"
        },
        "id": "oOwRzEJNEWjz",
        "outputId": "fc104f81-7fa1-4214-c541-fa6381e4d8fa"
      },
      "execution_count": 6,
      "outputs": [
        {
          "output_type": "execute_result",
          "data": {
            "text/plain": [
              "2880"
            ]
          },
          "metadata": {},
          "execution_count": 6
        }
      ]
    },
    {
      "cell_type": "code",
      "source": [
        "os.chdir(\"/content/drive/MyDrive/Thesis Folder/Dataset/Subset105/icub_right\")\n",
        "\n",
        "for j in range(len(label)):\n",
        "  imageNames = glob.glob(\"{}_{}/*\".format(j,label[j]))\n",
        "  for i, imName in enumerate(imageNames):\n",
        "    f_img=Image.open(imName)\n",
        "    img = f_img.resize((64, 64))\n",
        "    dataset.append(np.array(img))\n",
        "    labels.append(label[j])"
      ],
      "metadata": {
        "id": "f-3oFPOhBJL3"
      },
      "execution_count": 7,
      "outputs": []
    },
    {
      "cell_type": "code",
      "source": [
        "len(labels)"
      ],
      "metadata": {
        "colab": {
          "base_uri": "https://localhost:8080/"
        },
        "id": "mgzas2RW4wbJ",
        "outputId": "2bc53152-28bb-421c-931e-9259725b27e1"
      },
      "execution_count": 8,
      "outputs": [
        {
          "output_type": "execute_result",
          "data": {
            "text/plain": [
              "5760"
            ]
          },
          "metadata": {},
          "execution_count": 8
        }
      ]
    },
    {
      "cell_type": "code",
      "source": [
        "os.chdir(\"/content/drive/MyDrive/Thesis Folder/Dataset/Subset105/realsense\")\n",
        "\n",
        "for j in range(len(label)):\n",
        "  imageNames = glob.glob(\"{}_{}/*\".format(j,label[j]))\n",
        "  for i, imName in enumerate(imageNames):\n",
        "    f_img=Image.open(imName)\n",
        "    img = f_img.resize((64, 64))\n",
        "    dataset.append(np.array(img))\n",
        "    labels.append(label[j])"
      ],
      "metadata": {
        "id": "mED4sfjyCIP0"
      },
      "execution_count": 9,
      "outputs": []
    },
    {
      "cell_type": "code",
      "source": [
        "len(labels)"
      ],
      "metadata": {
        "colab": {
          "base_uri": "https://localhost:8080/"
        },
        "id": "O6TROc1z4xla",
        "outputId": "287c777e-47be-4ed9-cd82-6569cf2c4de0"
      },
      "execution_count": 10,
      "outputs": [
        {
          "output_type": "execute_result",
          "data": {
            "text/plain": [
              "10881"
            ]
          },
          "metadata": {},
          "execution_count": 10
        }
      ]
    },
    {
      "cell_type": "code",
      "source": [
        " #Convert data shape of (n_of_samples, width, height, 3)\n",
        "\n",
        "dataset = np.stack(dataset, axis=0)\n",
        "labels = np.array(labels)\n",
        "# save data and labels into a folder\n",
        "np.save(\"data40total.npy\", dataset)\n",
        "np.save(\"labels40total.npy\", labels)"
      ],
      "metadata": {
        "id": "0vaM0EHMBMv_"
      },
      "execution_count": 11,
      "outputs": []
    },
    {
      "cell_type": "code",
      "source": [
        "dataset.shape\n",
        "labels.shape\n",
        "dataset= None\n",
        "labels=None"
      ],
      "metadata": {
        "id": "Bksnt1KjBQha"
      },
      "execution_count": 12,
      "outputs": []
    },
    {
      "cell_type": "code",
      "source": [
        "features = np.load(\"/content/drive/MyDrive/Thesis Folder/Dataset/Subset105/realsense/data40total.npy\")\n",
        "labels = np.load(\"/content/drive/MyDrive/Thesis Folder/Dataset/Subset105/realsense/labels40total.npy\")\n"
      ],
      "metadata": {
        "id": "U-q9w2ffBWFI"
      },
      "execution_count": 14,
      "outputs": []
    },
    {
      "cell_type": "code",
      "source": [
        "\n",
        "# Split the data into training and testing sets\n",
        "X_train, X_test, y_train, y_test = train_test_split(\n",
        "    features, labels, test_size=0.2, random_state=42, stratify=labels)\n",
        "\n",
        "# Further split the training set into training and validation sets\n",
        "X_train, X_val, y_train, y_val = train_test_split(\n",
        "    X_train, y_train, test_size=0.25, random_state=42, stratify=y_train)"
      ],
      "metadata": {
        "id": "65qfydUJBcnp"
      },
      "execution_count": 15,
      "outputs": []
    },
    {
      "cell_type": "code",
      "source": [
        "\n",
        "sigma = random.randint(1, 10)\n",
        "\n",
        "# Loop through each image in the stack and apply the Gaussian blur filter in some of them \n",
        "for i in range(int(len(X_test)/2)):\n",
        "    idx=random.randint(0, int(len(X_test-1)))\n",
        "\n",
        "    blurred_image = np.empty_like(X_test[idx])\n",
        "    for j in range(3):\n",
        "        blurred_image[..., j] = gaussian_filter(X_test[idx][..., j], sigma)\n",
        "    X_test[idx] = blurred_image\n",
        "\n",
        "# Save the blurred images to a new file\n",
        "np.save('../blurredmix_images40total.npy', X_test)\n",
        "\n",
        "len(X_test)\n"
      ],
      "metadata": {
        "id": "ozTAGubdBhB5",
        "colab": {
          "base_uri": "https://localhost:8080/"
        },
        "outputId": "7d8bd2fb-01bc-4b00-8772-855261adba33"
      },
      "execution_count": 17,
      "outputs": [
        {
          "output_type": "execute_result",
          "data": {
            "text/plain": [
              "2177"
            ]
          },
          "metadata": {},
          "execution_count": 17
        }
      ]
    }
  ]
}